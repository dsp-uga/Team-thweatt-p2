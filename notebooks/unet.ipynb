{
 "cells": [
  {
   "cell_type": "code",
   "execution_count": 8,
   "metadata": {},
   "outputs": [],
   "source": [
    "import matplotlib.pyplot as plt\n",
    "import numpy as np\n",
    "import warnings\n",
    "import tarfile\n",
    "import cv2\n",
    "import os\n",
    "\n",
    "from skimage.io import imread, imshow, imread_collection, concatenate_images\n",
    "from skimage.transform import resize\n",
    "\n",
    "warnings.filterwarnings('ignore', category=UserWarning)"
   ]
  },
  {
   "cell_type": "code",
   "execution_count": 2,
   "metadata": {},
   "outputs": [],
   "source": [
    "base_path = \"/dataset/dataset/\""
   ]
  },
  {
   "cell_type": "code",
   "execution_count": 3,
   "metadata": {},
   "outputs": [],
   "source": [
    "train_files = []\n",
    "with open(base_path + \"train.txt\") as fp:\n",
    "    for line in fp:\n",
    "        train_files.append(line.strip())"
   ]
  },
  {
   "cell_type": "code",
   "execution_count": 4,
   "metadata": {},
   "outputs": [],
   "source": [
    "# for file_name in train_files:\n",
    "#     tar = tarfile.open(base_path + \"data/\" + file_name + '.tar')\n",
    "#     tar.extractall(path=base_path + \"train/\")"
   ]
  },
  {
   "cell_type": "code",
   "execution_count": 35,
   "metadata": {},
   "outputs": [],
   "source": [
    "X_train = np.zeros((21100, 256, 256, 1), dtype=np.uint8)\n",
    "y_train = np.zeros((21100, 256, 256, 1), dtype=np.bool)\n",
    "\n",
    "for n, file_name in enumerate(train_files):\n",
    "    mask = imread(base_path + \"masks/\" + file_name + \".png\", 0)\n",
    "    mask = np.expand_dims(resize(mask, (256, 256), mode='constant', preserve_range=True), axis=-1)\n",
    "    files = os.listdir(base_path + \"train/data/\" + file_name + '/')\n",
    "    for i in range(len(files)):\n",
    "        y_train[n] = mask\n",
    "    for file in files:\n",
    "        img = imread(base_path + \"train/data/\" + file_name + '/' + file) # 0 for gray scale\n",
    "        img = np.expand_dims(resize(img, (256, 256), mode=\"constant\", preserve_range=True), axis=-1)\n",
    "        X_train[n] = img"
   ]
  },
  {
   "cell_type": "code",
   "execution_count": 36,
   "metadata": {},
   "outputs": [],
   "source": [
    "assert X_train.shape == y_train.shape\n",
    "assert len(X_train) == len(y_train)"
   ]
  },
  {
   "cell_type": "code",
   "execution_count": 26,
   "metadata": {},
   "outputs": [],
   "source": [
    "# plt.figure(figsize=(25, 25))\n",
    "# plt.subplot(131)\n",
    "# plt.imshow(X_train[0])\n",
    "# plt.subplot(132)\n",
    "# plt.imshow(y_train[0])"
   ]
  },
  {
   "cell_type": "code",
   "execution_count": 37,
   "metadata": {},
   "outputs": [],
   "source": [
    "from keras.models import Model, load_model\n",
    "from keras.layers import Input\n",
    "from keras.layers.core import Dropout, Lambda\n",
    "from keras.layers.convolutional import Conv2D, Conv2DTranspose\n",
    "from keras.layers.pooling import MaxPooling2D\n",
    "from keras.layers.merge import concatenate\n",
    "from keras.callbacks import EarlyStopping, ModelCheckpoint\n",
    "from keras import backend as K\n",
    "\n",
    "import tensorflow as tf"
   ]
  },
  {
   "cell_type": "markdown",
   "metadata": {},
   "source": [
    "From https://www.kaggle.com/keegil/keras-u-net-starter-lb-0-277"
   ]
  },
  {
   "cell_type": "code",
   "execution_count": 38,
   "metadata": {},
   "outputs": [],
   "source": [
    "# Define IoU metric\n",
    "def mean_iou(y_true, y_pred):\n",
    "    prec = []\n",
    "    for t in np.arange(0.5, 1.0, 0.05):\n",
    "        y_pred_ = tf.to_int32(y_pred > t)\n",
    "        score, up_opt = tf.metrics.mean_iou(y_true, y_pred_, 2)\n",
    "        K.get_session().run(tf.local_variables_initializer())\n",
    "        with tf.control_dependencies([up_opt]):\n",
    "            score = tf.identity(score)\n",
    "        prec.append(score)\n",
    "    return K.mean(K.stack(prec), axis=0)"
   ]
  },
  {
   "cell_type": "code",
   "execution_count": 43,
   "metadata": {},
   "outputs": [],
   "source": [
    "inputs = Input((256, 256, 1))\n",
    "s = Lambda(lambda x: x / 255)(inputs)\n",
    "\n",
    "c1 = Conv2D(16, (3, 3), activation='elu', kernel_initializer='he_normal', padding='same')(s)\n",
    "c1 = Dropout(0.1)(c1)\n",
    "c1 = Conv2D(16, (3, 3), activation='elu', kernel_initializer='he_normal', padding='same')(c1)\n",
    "p1 = MaxPooling2D((2, 2))(c1)\n",
    "\n",
    "c2 = Conv2D(32, (3, 3), activation='elu', kernel_initializer='he_normal', padding='same') (p1)\n",
    "c2 = Dropout(0.1) (c2)\n",
    "c2 = Conv2D(32, (3, 3), activation='elu', kernel_initializer='he_normal', padding='same') (c2)\n",
    "p2 = MaxPooling2D((2, 2)) (c2)\n",
    "\n",
    "c3 = Conv2D(64, (3, 3), activation='elu', kernel_initializer='he_normal', padding='same') (p2)\n",
    "c3 = Dropout(0.2) (c3)\n",
    "c3 = Conv2D(64, (3, 3), activation='elu', kernel_initializer='he_normal', padding='same') (c3)\n",
    "p3 = MaxPooling2D((2, 2)) (c3)\n",
    "\n",
    "c4 = Conv2D(128, (3, 3), activation='elu', kernel_initializer='he_normal', padding='same') (p3)\n",
    "c4 = Dropout(0.2) (c4)\n",
    "c4 = Conv2D(128, (3, 3), activation='elu', kernel_initializer='he_normal', padding='same') (c4)\n",
    "p4 = MaxPooling2D(pool_size=(2, 2)) (c4)\n",
    "\n",
    "c5 = Conv2D(256, (3, 3), activation='elu', kernel_initializer='he_normal', padding='same') (p4)\n",
    "c5 = Dropout(0.3) (c5)\n",
    "c5 = Conv2D(256, (3, 3), activation='elu', kernel_initializer='he_normal', padding='same') (c5)\n",
    "\n",
    "u6 = Conv2DTranspose(128, (2, 2), strides=(2, 2), padding='same') (c5)\n",
    "u6 = concatenate([u6, c4])\n",
    "c6 = Conv2D(128, (3, 3), activation='elu', kernel_initializer='he_normal', padding='same') (u6)\n",
    "c6 = Dropout(0.2) (c6)\n",
    "c6 = Conv2D(128, (3, 3), activation='elu', kernel_initializer='he_normal', padding='same') (c6)\n",
    "\n",
    "u7 = Conv2DTranspose(64, (2, 2), strides=(2, 2), padding='same') (c6)\n",
    "u7 = concatenate([u7, c3])\n",
    "c7 = Conv2D(64, (3, 3), activation='elu', kernel_initializer='he_normal', padding='same') (u7)\n",
    "c7 = Dropout(0.2) (c7)\n",
    "c7 = Conv2D(64, (3, 3), activation='elu', kernel_initializer='he_normal', padding='same') (c7)\n",
    "\n",
    "u8 = Conv2DTranspose(32, (2, 2), strides=(2, 2), padding='same') (c7)\n",
    "u8 = concatenate([u8, c2])\n",
    "c8 = Conv2D(32, (3, 3), activation='elu', kernel_initializer='he_normal', padding='same') (u8)\n",
    "c8 = Dropout(0.1) (c8)\n",
    "c8 = Conv2D(32, (3, 3), activation='elu', kernel_initializer='he_normal', padding='same') (c8)\n",
    "\n",
    "u9 = Conv2DTranspose(16, (2, 2), strides=(2, 2), padding='same') (c8)\n",
    "u9 = concatenate([u9, c1], axis=3)\n",
    "c9 = Conv2D(16, (3, 3), activation='elu', kernel_initializer='he_normal', padding='same') (u9)\n",
    "c9 = Dropout(0.1) (c9)\n",
    "c9 = Conv2D(16, (3, 3), activation='elu', kernel_initializer='he_normal', padding='same') (c9)\n",
    "\n",
    "outputs = Conv2D(1, (1, 1), activation='sigmoid') (c9)\n",
    "\n",
    "model = Model(inputs=[inputs], outputs=[outputs])\n",
    "model.compile(optimizer='adam', loss='binary_crossentropy', metrics=[mean_iou])\n",
    "# model.summary()"
   ]
  },
  {
   "cell_type": "code",
   "execution_count": 40,
   "metadata": {},
   "outputs": [],
   "source": [
    "from keras.utils import plot_model"
   ]
  },
  {
   "cell_type": "code",
   "execution_count": 41,
   "metadata": {},
   "outputs": [],
   "source": [
    "plot_model(model, to_file='images/model_unet.png', show_shapes=True)"
   ]
  },
  {
   "cell_type": "code",
   "execution_count": 42,
   "metadata": {},
   "outputs": [
    {
     "name": "stdout",
     "output_type": "stream",
     "text": [
      "Train on 16880 samples, validate on 4220 samples\n",
      "Epoch 1/10\n",
      "16880/16880 [==============================] - 3928s 233ms/step - loss: 0.0289 - mean_iou: 0.5396 - val_loss: 4.9113e-07 - val_mean_iou: 0.5373\n",
      "Epoch 2/10\n",
      "16880/16880 [==============================] - 3911s 232ms/step - loss: 0.0088 - mean_iou: 0.5325 - val_loss: 2.9728e-07 - val_mean_iou: 0.5298\n",
      "Epoch 3/10\n",
      "16880/16880 [==============================] - 3915s 232ms/step - loss: 0.0087 - mean_iou: 0.5283 - val_loss: 1.6479e-07 - val_mean_iou: 0.5261\n",
      "Epoch 4/10\n",
      "16880/16880 [==============================] - 3914s 232ms/step - loss: 0.0087 - mean_iou: 0.5245 - val_loss: 1.3104e-07 - val_mean_iou: 0.5232\n",
      "Epoch 5/10\n",
      "16880/16880 [==============================] - 3914s 232ms/step - loss: 0.0087 - mean_iou: 0.5219 - val_loss: 1.2164e-07 - val_mean_iou: 0.5209\n",
      "Epoch 6/10\n",
      "16880/16880 [==============================] - 3915s 232ms/step - loss: 0.0087 - mean_iou: 0.5203 - val_loss: 1.1895e-07 - val_mean_iou: 0.5198\n",
      "Epoch 7/10\n",
      "16880/16880 [==============================] - 3915s 232ms/step - loss: 0.0086 - mean_iou: 0.5191 - val_loss: 1.1297e-07 - val_mean_iou: 0.5185\n",
      "Epoch 8/10\n",
      "16880/16880 [==============================] - 3913s 232ms/step - loss: 0.0086 - mean_iou: 0.5182 - val_loss: 1.1098e-07 - val_mean_iou: 0.5176\n",
      "Epoch 9/10\n",
      "16880/16880 [==============================] - 3914s 232ms/step - loss: 0.0086 - mean_iou: 0.5176 - val_loss: 1.0830e-07 - val_mean_iou: 0.5173\n",
      "Epoch 10/10\n",
      "16880/16880 [==============================] - 3917s 232ms/step - loss: 0.0086 - mean_iou: 0.5169 - val_loss: 1.0687e-07 - val_mean_iou: 0.5166\n"
     ]
    }
   ],
   "source": [
    "earlystopper = EarlyStopping(patience=5, verbose=1)\n",
    "# checkpointer = ModelCheckpoint('model-dsbowl2018-1.h5', verbose=1, save_best_only=True)\n",
    "results = model.fit(X_train, y_train, validation_split=0.2, batch_size=128, epochs=10, callbacks=[earlystopper])"
   ]
  },
  {
   "cell_type": "code",
   "execution_count": null,
   "metadata": {},
   "outputs": [],
   "source": []
  }
 ],
 "metadata": {
  "kernelspec": {
   "display_name": "Python 3",
   "language": "python",
   "name": "python3"
  },
  "language_info": {
   "codemirror_mode": {
    "name": "ipython",
    "version": 3
   },
   "file_extension": ".py",
   "mimetype": "text/x-python",
   "name": "python",
   "nbconvert_exporter": "python",
   "pygments_lexer": "ipython3",
   "version": "3.7.2"
  }
 },
 "nbformat": 4,
 "nbformat_minor": 2
}
